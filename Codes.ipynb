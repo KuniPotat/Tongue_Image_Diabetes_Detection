{
 "cells": [
  {
   "cell_type": "markdown",
   "id": "65e8bc8d",
   "metadata": {},
   "source": [
    "# Main 1: Data Pulling and Training set creation"
   ]
  },
  {
   "cell_type": "code",
   "execution_count": 1,
   "id": "f92b6ac2",
   "metadata": {},
   "outputs": [],
   "source": [
    "import numpy as np\n",
    "import os\n",
    "from matplotlib import pyplot as plt\n",
    "import cv2\n",
    "import random\n",
    "import pickle\n",
    "\n",
    "\n"
   ]
  },
  {
   "cell_type": "code",
   "execution_count": 2,
   "id": "e653e4e1",
   "metadata": {},
   "outputs": [],
   "source": [
    "file_list = []\n",
    "class_list = []\n",
    "\n",
    "DATADIR = \"datasets\"\n",
    "\n",
    "# Categories of neural network to detect\n",
    "CATEGORIES=[\"NORMAL\",\"Diabetics\"]\n",
    "\n",
    "# The size of the images that your neural network will use\n",
    "IMG_SIZE = 50\n",
    "\n",
    "# Checking or all images in the data folder\n",
    "for category in CATEGORIES :\n",
    "    path = os.path.join(DATADIR, category)\n",
    "    for img in os.listdir(\"/Users/ankitasarkar/Documents/MS Data Science/VITC/1st Year/2. Winter Sem/05. ECE6045 - Neural Network and Fuzzy Systems - Felix A/03. J Component/Tongue /00.01 [Codes] /01. Data Sets/crop images\"):\n",
    "        img_array = cv2.imread(os.path.join(\"/Users/ankitasarkar/Documents/MS Data Science/VITC/1st Year/2. Winter Sem/05. ECE6045 - Neural Network and Fuzzy Systems - Felix A/03. J Component/Tongue /00.01 [Codes] /01. Data Sets/crop images\", img), cv2.IMREAD_GRAYSCALE)\n",
    "        img_array = cv2.equalizeHist(img_array)\n",
    "       \n",
    "\n"
   ]
  },
  {
   "cell_type": "code",
   "execution_count": 3,
   "id": "845101fa",
   "metadata": {},
   "outputs": [],
   "source": [
    "training_data = []\n",
    "\n",
    "def create_training_data():\n",
    "    for category in CATEGORIES :\n",
    "        path = os.path.join(DATADIR, category)\n",
    "        class_num = CATEGORIES.index(category)\n",
    "        for img in os.listdir(\"/Users/ankitasarkar/Documents/MS Data Science/VITC/1st Year/2. Winter Sem/05. ECE6045 - Neural Network and Fuzzy Systems - Felix A/03. J Component/Tongue /00.01 [Codes] /01. Data Sets/crop images\"):\n",
    "            try :\n",
    "                img_array = cv2.imread(os.path.join(\"/Users/ankitasarkar/Documents/MS Data Science/VITC/1st Year/2. Winter Sem/05. ECE6045 - Neural Network and Fuzzy Systems - Felix A/03. J Component/Tongue /00.01 [Codes] /01. Data Sets/crop images\", img), cv2.IMREAD_GRAYSCALE) \n",
    "                img_array = cv2.equalizeHist(img_array)\n",
    "                new_array = cv2.resize(img_array, (IMG_SIZE, IMG_SIZE))\n",
    "                training_data.append([new_array, class_num])\n",
    "            except Exception as e:\n",
    "                pass\n",
    "\n",
    "create_training_data()\n",
    "\n",
    "random.shuffle(training_data)\n",
    "\n",
    "X = [] #features\n",
    "y = [] #labels\n",
    "\n"
   ]
  },
  {
   "cell_type": "code",
   "execution_count": 4,
   "id": "09abfb00",
   "metadata": {},
   "outputs": [],
   "source": [
    "for features, label in training_data:\n",
    "    X.append(features)\n",
    "    y.append(label)\n",
    "\n",
    "X = np.array(X).reshape(-1, IMG_SIZE, IMG_SIZE, 1)\n",
    "\n",
    "\n"
   ]
  },
  {
   "cell_type": "markdown",
   "id": "ff543da1",
   "metadata": {},
   "source": [
    "# Main2: CNN Model Creation "
   ]
  },
  {
   "cell_type": "code",
   "execution_count": 5,
   "id": "d994d3ae",
   "metadata": {},
   "outputs": [
    {
     "name": "stderr",
     "output_type": "stream",
     "text": [
      "2023-06-14 14:17:11.273440: I tensorflow/core/platform/cpu_feature_guard.cc:193] This TensorFlow binary is optimized with oneAPI Deep Neural Network Library (oneDNN) to use the following CPU instructions in performance-critical operations:  SSE4.1 SSE4.2\n",
      "To enable them in other operations, rebuild TensorFlow with the appropriate compiler flags.\n"
     ]
    }
   ],
   "source": [
    "import tensorflow as tf \n",
    "from tensorflow.python.keras.models import Sequential\n",
    "from tensorflow.python.keras.layers import Dense, Dropout, Activation, Flatten, Conv2D, MaxPooling2D\n",
    "import pickle\n",
    "from keras.models import model_from_json\n",
    "from keras.models import load_model\n",
    "import matplotlib.pyplot as plt\n",
    "import numpy as np"
   ]
  },
  {
   "cell_type": "code",
   "execution_count": 6,
   "id": "cd354b37",
   "metadata": {},
   "outputs": [],
   "source": [
    "# Opening the files about data\n",
    "#X = pickle.load(open(\"X.pickle\", \"rb\"))\n",
    "#y = pickle.load(open(\"y.pickle\", \"rb\"))\n",
    "\n",
    "\n",
    "X = X/255.0\n",
    "y=np.array(y)"
   ]
  },
  {
   "cell_type": "code",
   "execution_count": 7,
   "id": "251e7519",
   "metadata": {},
   "outputs": [
    {
     "name": "stdout",
     "output_type": "stream",
     "text": [
      "Model: \"sequential\"\n",
      "_________________________________________________________________\n",
      " Layer (type)                Output Shape              Param #   \n",
      "=================================================================\n",
      " conv2d (Conv2D)             (None, 48, 48, 32)        320       \n",
      "                                                                 \n",
      " activation (Activation)     (None, 48, 48, 32)        0         \n",
      "                                                                 \n",
      " max_pooling2d (MaxPooling2D  (None, 24, 24, 32)       0         \n",
      " )                                                               \n",
      "                                                                 \n",
      " conv2d_1 (Conv2D)           (None, 22, 22, 32)        9248      \n",
      "                                                                 \n",
      " activation_1 (Activation)   (None, 22, 22, 32)        0         \n",
      "                                                                 \n",
      " max_pooling2d_1 (MaxPooling  (None, 11, 11, 32)       0         \n",
      " 2D)                                                             \n",
      "                                                                 \n",
      " conv2d_2 (Conv2D)           (None, 9, 9, 32)          9248      \n",
      "                                                                 \n",
      " activation_2 (Activation)   (None, 9, 9, 32)          0         \n",
      "                                                                 \n",
      " max_pooling2d_2 (MaxPooling  (None, 4, 4, 32)         0         \n",
      " 2D)                                                             \n",
      "                                                                 \n",
      " dropout (Dropout)           (None, 4, 4, 32)          0         \n",
      "                                                                 \n",
      " flatten (Flatten)           (None, 512)               0         \n",
      "                                                                 \n",
      " dense (Dense)               (None, 128)               65664     \n",
      "                                                                 \n",
      " activation_3 (Activation)   (None, 128)               0         \n",
      "                                                                 \n",
      " dense_1 (Dense)             (None, 128)               16512     \n",
      "                                                                 \n",
      " activation_4 (Activation)   (None, 128)               0         \n",
      "                                                                 \n",
      " dense_2 (Dense)             (None, 4)                 516       \n",
      "                                                                 \n",
      " activation_5 (Activation)   (None, 4)                 0         \n",
      "                                                                 \n",
      "=================================================================\n",
      "Total params: 101,508\n",
      "Trainable params: 101,508\n",
      "Non-trainable params: 0\n",
      "_________________________________________________________________\n"
     ]
    },
    {
     "name": "stderr",
     "output_type": "stream",
     "text": [
      "2023-06-14 14:17:15.544536: I tensorflow/core/platform/cpu_feature_guard.cc:193] This TensorFlow binary is optimized with oneAPI Deep Neural Network Library (oneDNN) to use the following CPU instructions in performance-critical operations:  SSE4.1 SSE4.2\n",
      "To enable them in other operations, rebuild TensorFlow with the appropriate compiler flags.\n"
     ]
    },
    {
     "name": "stdout",
     "output_type": "stream",
     "text": [
      "Epoch 1/20\n",
      "3/3 [==============================] - 1s 118ms/step - loss: 1.2785 - accuracy: 0.5027 - val_loss: 1.0913 - val_accuracy: 0.4286\n",
      "Epoch 2/20\n",
      "3/3 [==============================] - 0s 47ms/step - loss: 0.9823 - accuracy: 0.5082 - val_loss: 0.7980 - val_accuracy: 0.4286\n",
      "Epoch 3/20\n",
      "3/3 [==============================] - 0s 47ms/step - loss: 0.7386 - accuracy: 0.5027 - val_loss: 0.6914 - val_accuracy: 0.5714\n",
      "Epoch 4/20\n",
      "3/3 [==============================] - 0s 51ms/step - loss: 0.7158 - accuracy: 0.4863 - val_loss: 0.6912 - val_accuracy: 0.5714\n",
      "Epoch 5/20\n",
      "3/3 [==============================] - 0s 46ms/step - loss: 0.7651 - accuracy: 0.4918 - val_loss: 0.6933 - val_accuracy: 0.5714\n",
      "Epoch 6/20\n",
      "3/3 [==============================] - 0s 46ms/step - loss: 0.7667 - accuracy: 0.4262 - val_loss: 0.7838 - val_accuracy: 0.4286\n",
      "Epoch 7/20\n",
      "3/3 [==============================] - 0s 46ms/step - loss: 0.7584 - accuracy: 0.4645 - val_loss: 0.7107 - val_accuracy: 0.5714\n",
      "Epoch 8/20\n",
      "3/3 [==============================] - 0s 45ms/step - loss: 0.7154 - accuracy: 0.5301 - val_loss: 0.6913 - val_accuracy: 0.5714\n",
      "Epoch 9/20\n",
      "3/3 [==============================] - 0s 43ms/step - loss: 0.7117 - accuracy: 0.4809 - val_loss: 0.7378 - val_accuracy: 0.4286\n",
      "Epoch 10/20\n",
      "3/3 [==============================] - 0s 46ms/step - loss: 0.7087 - accuracy: 0.4973 - val_loss: 0.7038 - val_accuracy: 0.4286\n",
      "Epoch 11/20\n",
      "3/3 [==============================] - 0s 43ms/step - loss: 0.6922 - accuracy: 0.5191 - val_loss: 0.6861 - val_accuracy: 0.5714\n",
      "Epoch 12/20\n",
      "3/3 [==============================] - 0s 45ms/step - loss: 0.6901 - accuracy: 0.5301 - val_loss: 0.6874 - val_accuracy: 0.5714\n",
      "Epoch 13/20\n",
      "3/3 [==============================] - 0s 47ms/step - loss: 0.6920 - accuracy: 0.5191 - val_loss: 0.6908 - val_accuracy: 0.5714\n",
      "Epoch 14/20\n",
      "3/3 [==============================] - 0s 45ms/step - loss: 0.6892 - accuracy: 0.5519 - val_loss: 0.6987 - val_accuracy: 0.4762\n",
      "Epoch 15/20\n",
      "3/3 [==============================] - 0s 43ms/step - loss: 0.7028 - accuracy: 0.4699 - val_loss: 0.7074 - val_accuracy: 0.4286\n",
      "Epoch 16/20\n",
      "3/3 [==============================] - 0s 45ms/step - loss: 0.7115 - accuracy: 0.5027 - val_loss: 0.7045 - val_accuracy: 0.4286\n",
      "Epoch 17/20\n",
      "3/3 [==============================] - 0s 43ms/step - loss: 0.7009 - accuracy: 0.4918 - val_loss: 0.6960 - val_accuracy: 0.4762\n",
      "Epoch 18/20\n",
      "3/3 [==============================] - 0s 45ms/step - loss: 0.6951 - accuracy: 0.5137 - val_loss: 0.6909 - val_accuracy: 0.5714\n",
      "Epoch 19/20\n",
      "3/3 [==============================] - 0s 43ms/step - loss: 0.7050 - accuracy: 0.5082 - val_loss: 0.6933 - val_accuracy: 0.5714\n",
      "Epoch 20/20\n",
      "3/3 [==============================] - 0s 43ms/step - loss: 0.7035 - accuracy: 0.4809 - val_loss: 0.6956 - val_accuracy: 0.4286\n"
     ]
    }
   ],
   "source": [
    "from sklearn.model_selection import train_test_split\n",
    "from tensorflow.keras.models import Sequential\n",
    "from tensorflow.keras.layers import Conv2D, Activation, MaxPooling2D, Dropout, Flatten, Dense\n",
    "from tensorflow.keras.preprocessing.image import ImageDataGenerator\n",
    "\n",
    "# Split the data into training and validation sets\n",
    "X_train, X_val, y_train, y_val = train_test_split(X, y, test_size=0.1, random_state=42)\n",
    "\n",
    "# Create an instance of ImageDataGenerator for data augmentation\n",
    "datagen = ImageDataGenerator(\n",
    "    rotation_range=20,\n",
    "    width_shift_range=0.1,\n",
    "    height_shift_range=0.1,\n",
    "    shear_range=0.2,\n",
    "    zoom_range=0.2,\n",
    "    horizontal_flip=True,\n",
    "    fill_mode='nearest'\n",
    ")\n",
    "\n",
    "# Build the model\n",
    "model = Sequential()\n",
    "model.add(Conv2D(32, (3, 3), input_shape=X.shape[1:]))\n",
    "model.add(Activation(\"relu\"))\n",
    "model.add(MaxPooling2D(pool_size=(2, 2)))\n",
    "model.add(Conv2D(32, (3, 3)))\n",
    "model.add(Activation(\"relu\"))\n",
    "model.add(MaxPooling2D(pool_size=(2, 2)))\n",
    "model.add(Conv2D(32, (3, 3)))\n",
    "model.add(Activation(\"relu\"))\n",
    "model.add(MaxPooling2D(pool_size=(2, 2)))\n",
    "model.add(Dropout(0.25))\n",
    "model.add(Flatten())\n",
    "model.add(Dense(128))\n",
    "model.add(Activation(\"relu\"))\n",
    "model.add(Dense(128))\n",
    "model.add(Activation(\"relu\"))\n",
    "model.add(Dense(4))\n",
    "model.add(Activation(\"softmax\"))\n",
    "\n",
    "# Compile the model\n",
    "model.compile(loss=\"sparse_categorical_crossentropy\",\n",
    "              optimizer=\"adam\",\n",
    "              metrics=[\"accuracy\"])\n",
    "\n",
    "# Print the model summary\n",
    "model.summary()\n",
    "\n",
    "# Apply data augmentation to training data\n",
    "train_data = datagen.flow(X_train, y_train, batch_size=64)\n",
    "\n",
    "# Train the model with augmented training data and validate with validation data\n",
    "history = model.fit(train_data, epochs=20, validation_data=(X_val, y_val))\n",
    "\n"
   ]
  },
  {
   "cell_type": "code",
   "execution_count": 8,
   "id": "ac529232",
   "metadata": {},
   "outputs": [
    {
     "name": "stdout",
     "output_type": "stream",
     "text": [
      "Saved model to disk\n"
     ]
    },
    {
     "name": "stderr",
     "output_type": "stream",
     "text": [
      "WARNING:absl:Found untraced functions such as _jit_compiled_convolution_op, _jit_compiled_convolution_op, _jit_compiled_convolution_op while saving (showing 3 of 3). These functions will not be directly callable after loading.\n"
     ]
    },
    {
     "name": "stdout",
     "output_type": "stream",
     "text": [
      "INFO:tensorflow:Assets written to: CNN.model/assets\n"
     ]
    },
    {
     "name": "stderr",
     "output_type": "stream",
     "text": [
      "INFO:tensorflow:Assets written to: CNN.model/assets\n"
     ]
    }
   ],
   "source": [
    "# Saving the model\n",
    "model_json = model.to_json()\n",
    "with open(\"model.json\", \"w\") as json_file :\n",
    " json_file.write(model_json)\n",
    "\n",
    "model.save_weights(\"model.h5\")\n",
    "print(\"Saved model to disk\")\n",
    "\n",
    "model.save('CNN.model')"
   ]
  },
  {
   "cell_type": "code",
   "execution_count": 9,
   "id": "2db05b3d",
   "metadata": {},
   "outputs": [],
   "source": [
    "# Printing a graph showing the accuracy changes during the training phase\n",
    "acc = history.history['accuracy']\n",
    "val_acc = history.history['val_accuracy']\n",
    "loss = history.history['loss']\n",
    "val_loss = history.history['val_loss']\n",
    "acc=np.array(acc)\n",
    "val_acc=np.array(val_acc)\n",
    "loss=np.array(loss)\n",
    "val_loss=np.array(val_loss)\n",
    "epochs_range = range(20)"
   ]
  },
  {
   "cell_type": "code",
   "execution_count": 10,
   "id": "f27fb9e3",
   "metadata": {},
   "outputs": [
    {
     "data": {
      "text/plain": [
       "Text(0.5, 0, 'epoch')"
      ]
     },
     "execution_count": 10,
     "metadata": {},
     "output_type": "execute_result"
    },
    {
     "data": {
      "image/png": "[encoded data removed]",
      "text/plain": [
       "<Figure size 1500x1500 with 1 Axes>"
      ]
     },
     "metadata": {},
     "output_type": "display_data"
    }
   ],
   "source": [
    "plt.figure(figsize=(15, 15))\n",
    "plt.subplot(2, 2, 1)\n",
    "plt.plot(epochs_range, acc, label='Training Accuracy')\n",
    "plt.plot(epochs_range, val_acc, label='Validation Accuracy')\n",
    "plt.legend(loc='lower right')\n",
    "plt.title('Training and Validation Accuracy')\n",
    "plt.ylabel('accuracy')\n",
    "plt.xlabel('epoch')"
   ]
  },
  {
   "cell_type": "code",
   "execution_count": 11,
   "id": "e615d15f",
   "metadata": {},
   "outputs": [
    {
     "data": {
      "image/png": "[encoded data removed]",
      "text/plain": [
       "<Figure size 640x480 with 1 Axes>"
      ]
     },
     "metadata": {},
     "output_type": "display_data"
    }
   ],
   "source": [
    "plt.subplot(2, 2, 2)\n",
    "plt.plot(epochs_range, loss, label='Training Loss')\n",
    "plt.plot(epochs_range, val_loss, label='Validation Loss')\n",
    "plt.legend(loc='upper right')\n",
    "plt.title('Training and Validation Loss')\n",
    "plt.ylabel('loss')\n",
    "plt.xlabel('epoch')\n",
    "plt.show()"
   ]
  },
  {
   "cell_type": "markdown",
   "id": "e470e11f",
   "metadata": {},
   "source": [
    "# Final: Interface Creation "
   ]
  },
  {
   "cell_type": "code",
   "execution_count": 12,
   "id": "a9f998a8",
   "metadata": {},
   "outputs": [],
   "source": [
    "import numpy as np\n",
    "import matplotlib.pyplot as plt\n",
    "import cv2\n",
    "import os\n",
    "import tensorflow as tf\n",
    "from keras.models import load_model\n",
    "from tkinter import *\n",
    "import tkinter.messagebox\n",
    "import PIL.Image\n",
    "import PIL.ImageTk\n",
    "from tkinter import filedialog\n",
    "\n",
    "CATEGORIES=[\"NORMAL\",\"Diabetics\"]\n"
   ]
  },
  {
   "cell_type": "code",
   "execution_count": 13,
   "id": "0f16c50e",
   "metadata": {},
   "outputs": [],
   "source": [
    "root = Tk()\n",
    "root.title(\"Diabetes Detection\")\n",
    "root.state('zoomed')\n",
    "root.configure(bg='#D3D3D3')\n",
    "root.resizable(width = True, height = True) \n",
    "value = StringVar()\n",
    "panel = Label(root)\n",
    "model = tf.keras.models.load_model(\"CNN.model\")\n"
   ]
  },
  {
   "cell_type": "code",
   "execution_count": 14,
   "id": "3d4e8325",
   "metadata": {},
   "outputs": [],
   "source": [
    "def prepare(file):\n",
    "    IMG_SIZE = 50\n",
    "    img_array = cv2.imread(file, cv2.IMREAD_GRAYSCALE)\n",
    "    img_array = cv2.equalizeHist(img_array)\n",
    "    new_array = cv2.resize(img_array, (IMG_SIZE, IMG_SIZE))\n",
    "    return new_array.reshape(-1, IMG_SIZE, IMG_SIZE, 1)\n",
    "def detect(filename):\n",
    "    prediction = model.predict(prepare(filename))\n",
    "    prediction = list(prediction[0])\n",
    "    print(prediction)\n",
    "    l=CATEGORIES[prediction.index(max(prediction))]\n",
    "    print(CATEGORIES[prediction.index(max(prediction))])\n",
    "    value.set(CATEGORIES[prediction.index(max(prediction))])\n",
    "    i=int(prediction.index(max(prediction)))"
   ]
  },
  {
   "cell_type": "code",
   "execution_count": 15,
   "id": "5aa916ac",
   "metadata": {},
   "outputs": [],
   "source": [
    "def ClickAction(event=None):\n",
    "    filename = filedialog.askopenfilename()\n",
    "    img = PIL.Image.open(filename)\n",
    "    img = img.resize((250,250))\n",
    "    img = PIL.ImageTk.PhotoImage(img)\n",
    "    global panel\n",
    "    panel = Label(root, image = img)\n",
    "    panel.image = img\n",
    "    panel = panel.place(relx=0.435,rely=0.3)\n",
    "    detect(filename)"
   ]
  },
  {
   "cell_type": "code",
   "execution_count": null,
   "id": "9ebaf1c7",
   "metadata": {},
   "outputs": [
    {
     "name": "stderr",
     "output_type": "stream",
     "text": [
      "2023-06-14 14:17:23.963 python[41277:635438] IMKClient Stall detected, *please Report* your user scenario attaching a spindump (or sysdiagnose) that captures the problem - (imkxpc_bundleIdentifierWithReply:) block performed very slowly (1.11 secs).\n",
      "2023-06-14 14:18:57.115 python[41277:635438] +[CATransaction synchronize] called within transaction\n"
     ]
    },
    {
     "name": "stdout",
     "output_type": "stream",
     "text": [
      "1/1 [==============================] - 0s 91ms/step\n",
      "[0.84389514, 0.1561049, 0.0, 0.0]\n",
      "NORMAL\n"
     ]
    },
    {
     "name": "stderr",
     "output_type": "stream",
     "text": [
      "2023-06-14 14:19:01.638 python[41277:635438] +[CATransaction synchronize] called within transaction\n"
     ]
    },
    {
     "name": "stdout",
     "output_type": "stream",
     "text": [
      "1/1 [==============================] - 0s 17ms/step\n",
      "[0.93593454, 0.064065434, 0.0, 0.0]\n",
      "NORMAL\n"
     ]
    },
    {
     "name": "stderr",
     "output_type": "stream",
     "text": [
      "2023-06-14 14:19:04.534 python[41277:635438] +[CATransaction synchronize] called within transaction\n"
     ]
    },
    {
     "name": "stdout",
     "output_type": "stream",
     "text": [
      "1/1 [==============================] - 0s 18ms/step\n",
      "[0.7038167, 0.29618326, 0.0, 0.0]\n",
      "NORMAL\n"
     ]
    },
    {
     "name": "stderr",
     "output_type": "stream",
     "text": [
      "2023-06-14 14:19:07.954 python[41277:635438] +[CATransaction synchronize] called within transaction\n"
     ]
    },
    {
     "name": "stdout",
     "output_type": "stream",
     "text": [
      "1/1 [==============================] - 0s 17ms/step\n",
      "[0.039604004, 0.96039605, 0.0, 0.0]\n",
      "Diabetics\n"
     ]
    }
   ],
   "source": [
    "button = Button(root, text='CHOOSE THE IMAGE', font=(None, 18), activeforeground='red', bd=20, bg='red', relief=RAISED, height=3, width=20, command=ClickAction)\n",
    "button = button.place(relx=0.40, rely=0.05)\n",
    "result = Label(root, textvariable=value, font=(None, 20))\n",
    "result = result.place(relx=0.465,rely=0.7)\n",
    "root.mainloop()\n"
   ]
  }
 ],
 "metadata": {
  "kernelspec": {
   "display_name": "Python 3 (ipykernel)",
   "language": "python",
   "name": "python3"
  },
  "language_info": {
   "codemirror_mode": {
    "name": "ipython",
    "version": 3
   },
   "file_extension": ".py",
   "mimetype": "text/x-python",
   "name": "python",
   "nbconvert_exporter": "python",
   "pygments_lexer": "ipython3",
   "version": "3.10.11"
  }
 },
 "nbformat": 4,
 "nbformat_minor": 5
}
